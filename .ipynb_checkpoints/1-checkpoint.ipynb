{
 "cells": [
  {
   "cell_type": "code",
   "execution_count": 1,
   "metadata": {},
   "outputs": [],
   "source": [
    "from urllib.request import urlopen"
   ]
  },
  {
   "cell_type": "code",
   "execution_count": 10,
   "metadata": {},
   "outputs": [],
   "source": [
    "html = urlopen('https://stepik.org/media/attachments/lesson/209717/1.html').read().decode('utf-8')"
   ]
  },
  {
   "cell_type": "code",
   "execution_count": 6,
   "metadata": {},
   "outputs": [],
   "source": [
    "#html"
   ]
  },
  {
   "cell_type": "code",
   "execution_count": 7,
   "metadata": {},
   "outputs": [
    {
     "name": "stdout",
     "output_type": "stream",
     "text": [
      "<class 'str'>\n"
     ]
    }
   ],
   "source": [
    "print(type(html))"
   ]
  },
  {
   "cell_type": "code",
   "execution_count": 11,
   "metadata": {},
   "outputs": [
    {
     "data": {
      "text/plain": [
       "17"
      ]
     },
     "execution_count": 11,
     "metadata": {},
     "output_type": "execute_result"
    }
   ],
   "source": [
    "html.count('C++')"
   ]
  },
  {
   "cell_type": "code",
   "execution_count": 12,
   "metadata": {},
   "outputs": [
    {
     "data": {
      "text/plain": [
       "3"
      ]
     },
     "execution_count": 12,
     "metadata": {},
     "output_type": "execute_result"
    }
   ],
   "source": [
    "html.count('Python')"
   ]
  },
  {
   "cell_type": "code",
   "execution_count": null,
   "metadata": {},
   "outputs": [],
   "source": []
  },
  {
   "cell_type": "code",
   "execution_count": 13,
   "metadata": {},
   "outputs": [],
   "source": [
    "html = urlopen('https://stepik.org/media/attachments/lesson/209717/1.html').read().decode('utf-8')"
   ]
  },
  {
   "cell_type": "code",
   "execution_count": 16,
   "metadata": {},
   "outputs": [],
   "source": [
    "s = str(html)\n",
    "ans = []\n",
    "state = 0"
   ]
  },
  {
   "cell_type": "code",
   "execution_count": 17,
   "metadata": {},
   "outputs": [],
   "source": [
    "for c in s:\n",
    "    if c == '<':\n",
    "        state = 1\n",
    "    if c == '>':\n",
    "        state = 0\n",
    "    elif state == 0:\n",
    "        ans.append(c)\n",
    "s = ''.join(ans)"
   ]
  },
  {
   "cell_type": "code",
   "execution_count": 18,
   "metadata": {},
   "outputs": [
    {
     "data": {
      "text/plain": [
       "9"
      ]
     },
     "execution_count": 18,
     "metadata": {},
     "output_type": "execute_result"
    }
   ],
   "source": [
    "s.count('C++')"
   ]
  },
  {
   "cell_type": "code",
   "execution_count": null,
   "metadata": {},
   "outputs": [],
   "source": []
  },
  {
   "cell_type": "code",
   "execution_count": null,
   "metadata": {},
   "outputs": [],
   "source": []
  },
  {
   "cell_type": "code",
   "execution_count": 19,
   "metadata": {},
   "outputs": [],
   "source": [
    "import requests\n",
    "from bs4 import BeautifulSoup \n",
    "import re"
   ]
  },
  {
   "cell_type": "code",
   "execution_count": 20,
   "metadata": {},
   "outputs": [],
   "source": [
    "url = 'https://stepik.org/media/attachments/lesson/209719/2.html'"
   ]
  },
  {
   "cell_type": "code",
   "execution_count": 21,
   "metadata": {},
   "outputs": [],
   "source": [
    "page = requests.get(url)"
   ]
  },
  {
   "cell_type": "code",
   "execution_count": 22,
   "metadata": {},
   "outputs": [],
   "source": [
    "soup = BeautifulSoup(page.text, 'html.parser')"
   ]
  },
  {
   "cell_type": "code",
   "execution_count": 24,
   "metadata": {},
   "outputs": [],
   "source": [
    "code = soup.findAll('code')"
   ]
  },
  {
   "cell_type": "code",
   "execution_count": 25,
   "metadata": {},
   "outputs": [],
   "source": [
    "#soup"
   ]
  },
  {
   "cell_type": "code",
   "execution_count": 27,
   "metadata": {},
   "outputs": [
    {
     "data": {
      "text/plain": [
       "bs4.element.ResultSet"
      ]
     },
     "execution_count": 27,
     "metadata": {},
     "output_type": "execute_result"
    }
   ],
   "source": [
    "type(code)"
   ]
  },
  {
   "cell_type": "code",
   "execution_count": 28,
   "metadata": {},
   "outputs": [],
   "source": [
    "s = str(code)"
   ]
  },
  {
   "cell_type": "code",
   "execution_count": 31,
   "metadata": {},
   "outputs": [
    {
     "data": {
      "text/plain": [
       "'[<code>.py, .pyw, .pyc, .pyo, .pyd<sup class=\"reference\" id=\"cite_ref-3\"><a href=\"#cite_note-3\">[3]</a></sup></code>, <code>import this</code>, <code>else</code>, <code>try</code>, <code>except</code>, <code lang=\"python\">lambda, map, reduce, filter</code>, <code>logging</code>, <code>unittest</code>, <code>threading</code>, <code>finally</code>, <code>except</code>, <code>@</code>, <code>int</code>, <code>long</code>, <code>int</code>, <code>complex</code>, <code>master</code>, <code>slave</code>, <code>parent</code>, <code>child</code>, <code>if</code>, <code>else</code>, <code>elif</code>, <code>while</code>, <code>for</code>, <code>break</code>, <code>continue</code>, <code>class</code>, <code>def</code>, <code>return</code>, <code>yield</code>, <code>try</code>, <code>except</code>, <code>else</code>, <code>try</code>, <code>finally</code>, <code>finally</code>, <code>except</code>, <code>else</code>, <code>pass</code>, <code>printf()</code>, <code>or</code>, <code>and</code>, <code>or</code>, <code>s[N:M]</code>, <code>import keyword; print(keyword.kwlist)</code>, <code>__doc__</code>, <code>is, \\'.\\', \\'=\\'</code>, <code>len()</code>, <code>import</code>, <code>reload()</code>, <code>try, except, else, finally, raise</code>, <code>else, except</code>, <code>finally</code>, <code>sys.exc_info()</code>, <code>with</code>, <code>for</code>, <code>itertools</code>, <code>next()</code>, <code>for</code>, <code>yield</code>, <code>return</code>, <code>send()</code>, <code>throw()</code>, <code>with</code>, <code>contextlib</code>, <code>return</code>, <code>@</code>, <code>@декоратор(аргументы)</code>, <code>re</code>, <code>profile</code>, <code>timeit</code>, <code>sort()</code>, <code>+=</code>, <code>.pyc</code>, <code>.pyo</code>, <code>int, str, float, list</code>, <code>io</code>, <code>{k: v for k, v in a_dict}</code>, <code>{el1, el2, el3}</code>, <code>print</code>, <code>from __future__ import print_function</code>, <code>reduce</code>, <code>map</code>, <code>filter</code>, <code>functools</code>, <code>reduce</code>, <code>exec</code>, <code>a, *rest, b = range(5)</code>, <code>def foo(a, (b, c))</code>, <code>pdb</code>, <code>help()</code>]'"
      ]
     },
     "execution_count": 31,
     "metadata": {},
     "output_type": "execute_result"
    }
   ],
   "source": [
    "s"
   ]
  },
  {
   "cell_type": "code",
   "execution_count": 59,
   "metadata": {},
   "outputs": [],
   "source": [
    "d = dict()\n",
    "ans = []"
   ]
  },
  {
   "cell_type": "code",
   "execution_count": 60,
   "metadata": {},
   "outputs": [],
   "source": [
    "i = 0\n",
    "while True:\n",
    "    try:\n",
    "        d[s.split('<code>')[i].split('</code>')[0]] = d.get(s.split('<code>')[i].split('</code>')[0], 0) + 1\n",
    "        i += 1        \n",
    "    except:\n",
    "        break\n",
    "        "
   ]
  },
  {
   "cell_type": "code",
   "execution_count": 55,
   "metadata": {},
   "outputs": [
    {
     "data": {
      "text/plain": [
       "'['"
      ]
     },
     "execution_count": 55,
     "metadata": {},
     "output_type": "execute_result"
    }
   ],
   "source": [
    "s.split('<code>')[0].split('</code>')[0]"
   ]
  },
  {
   "cell_type": "code",
   "execution_count": 61,
   "metadata": {},
   "outputs": [],
   "source": [
    "mx = 0\n",
    "for x in d:\n",
    "    if d[x] > mx:\n",
    "        mx = d[x]\n",
    "for y in d:\n",
    "    if d[y] == mx:\n",
    "        ans.append(y)"
   ]
  },
  {
   "cell_type": "code",
   "execution_count": 69,
   "metadata": {},
   "outputs": [],
   "source": [
    "ans = sorted(ans)"
   ]
  },
  {
   "cell_type": "code",
   "execution_count": 70,
   "metadata": {},
   "outputs": [
    {
     "name": "stdout",
     "output_type": "stream",
     "text": [
      "else except finally\n"
     ]
    }
   ],
   "source": [
    "print(*ans)"
   ]
  },
  {
   "cell_type": "code",
   "execution_count": null,
   "metadata": {},
   "outputs": [],
   "source": []
  },
  {
   "cell_type": "markdown",
   "metadata": {},
   "source": [
    "### task 2"
   ]
  },
  {
   "cell_type": "code",
   "execution_count": 73,
   "metadata": {},
   "outputs": [
    {
     "name": "stdout",
     "output_type": "stream",
     "text": [
      "else except finally\n"
     ]
    }
   ],
   "source": [
    "import requests\n",
    "from bs4 import BeautifulSoup \n",
    "import re\n",
    "\n",
    "url = 'https://stepik.org/media/attachments/lesson/209719/2.html'\n",
    "page = requests.get(url)\n",
    "soup = BeautifulSoup(page.text, 'html.parser')\n",
    "code = soup.findAll('code')\n",
    "\n",
    "s = str(code)\n",
    "\n",
    "d = dict()\n",
    "ans = []\n",
    "\n",
    "i = 0\n",
    "while True:\n",
    "    try:\n",
    "        d[s.split('<code>')[i].split('</code>')[0]] = d.get(s.split('<code>')[i].split('</code>')[0], 0) + 1\n",
    "        i += 1        \n",
    "    except:\n",
    "        break\n",
    "        \n",
    "mx = 0\n",
    "for x in d:\n",
    "    if d[x] > mx:\n",
    "        mx = d[x]\n",
    "for y in d:\n",
    "    if d[y] == mx:\n",
    "        ans.append(y)\n",
    "        \n",
    "ans = sorted(ans)\n",
    "print(*ans)\n"
   ]
  },
  {
   "cell_type": "code",
   "execution_count": 74,
   "metadata": {},
   "outputs": [
    {
     "name": "stdout",
     "output_type": "stream",
     "text": [
      "('else', 4) ('except', 4) ('finally', 4) ('try', 3) ('for', 3) ('return', 3) ('@', 2) ('int', 2) ('yield', 2) ('or', 2) ('with', 2) ('reduce', 2) ('.py, .pyw, .pyc, .pyo, .pyd<sup id=\"cite_ref-3\" class=\"reference\"><a href=\"#cite_note-3\">&#91;3&#93;</a></sup>', 1) ('import this', 1) ('logging', 1) ('unittest', 1) ('threading', 1) ('long', 1) ('complex', 1) ('master', 1) ('slave', 1) ('parent', 1) ('child', 1) ('if', 1) ('elif', 1) ('while', 1) ('break', 1) ('continue', 1) ('class', 1) ('def', 1) ('pass', 1) ('printf()', 1) ('and', 1) ('s[N:M]', 1) ('import keyword; print(keyword.kwlist)', 1) ('__doc__', 1) (\"is, '.', '='\", 1) ('len()', 1) ('import', 1) ('reload()', 1) ('try, except, else, finally, raise', 1) ('else, except', 1) ('sys.exc_info()', 1) ('itertools', 1) ('next()', 1) ('send()', 1) ('throw()', 1) ('contextlib', 1) ('@декоратор(аргументы)', 1) ('re', 1) ('profile', 1) ('timeit', 1) ('sort()', 1) ('+=', 1) ('.pyc', 1) ('.pyo', 1) ('int, str, float, list', 1) ('io', 1) ('{k: v for k, v in a_dict}', 1) ('{el1, el2, el3}', 1) ('print', 1) ('from __future__ import print_function', 1) ('map', 1) ('filter', 1) ('functools', 1) ('exec', 1) ('a, *rest, b = range(5)', 1) ('def foo(a, (b, c))', 1) ('pdb', 1) ('help()', 1)\n"
     ]
    }
   ],
   "source": [
    "import requests, collections, re\n",
    "res = requests.get(' https://stepik.org/media/attachments/lesson/209719/2.html').text\n",
    "print(*collections.Counter(re.findall(r'<code>(.*?)</code>', res)).most_common())"
   ]
  },
  {
   "cell_type": "code",
   "execution_count": null,
   "metadata": {},
   "outputs": [],
   "source": []
  },
  {
   "cell_type": "code",
   "execution_count": null,
   "metadata": {},
   "outputs": [],
   "source": []
  },
  {
   "cell_type": "code",
   "execution_count": 89,
   "metadata": {},
   "outputs": [],
   "source": [
    "html = urlopen('https://ru.wikipedia.org/wiki/Python').read().decode('utf-8')\n",
    "s = str(html)"
   ]
  },
  {
   "cell_type": "code",
   "execution_count": 94,
   "metadata": {},
   "outputs": [],
   "source": [
    "pos = s.find('<a href=')"
   ]
  },
  {
   "cell_type": "code",
   "execution_count": 96,
   "metadata": {},
   "outputs": [],
   "source": [
    "while pos != -1:\n",
    "    posquote = s.find('\"', pos + 9)\n",
    "    href = s[pos + 9:posquote]\n",
    "    #print(href)\n",
    "    pos = s.find('a href=', pos + 1)"
   ]
  },
  {
   "cell_type": "code",
   "execution_count": null,
   "metadata": {},
   "outputs": [],
   "source": []
  },
  {
   "cell_type": "code",
   "execution_count": 97,
   "metadata": {},
   "outputs": [
    {
     "name": "stdout",
     "output_type": "stream",
     "text": [
      "94596065609609271052308\n"
     ]
    }
   ],
   "source": [
    "from urllib.request import urlopen, urlretrieve\n",
    "from bs4 import BeautifulSoup\n",
    "\n",
    "resp = urlopen('https://stepik.org/media/attachments/lesson/245130/6.html') # скачиваем файл\n",
    "html = resp.read().decode('utf8') # считываем содержимое\n",
    "soup = BeautifulSoup(html, 'html.parser') # делаем суп\n",
    "table = soup.find('table', attrs = {'class' : 'wikitable sortable'})\n",
    "cnt = 0\n",
    "for tr in soup.find_all('tr'):\n",
    "    cnt += 1\n",
    "    for td in tr.find_all(['td', 'th']):\n",
    "        cnt *= 2\n",
    "print(cnt)"
   ]
  },
  {
   "cell_type": "code",
   "execution_count": null,
   "metadata": {},
   "outputs": [],
   "source": []
  },
  {
   "cell_type": "code",
   "execution_count": 98,
   "metadata": {},
   "outputs": [],
   "source": [
    "html = urlopen('https://ru.wikipedia.org/wiki/Python').read().decode('utf-8')\n",
    "s = str(html)\n",
    "soup = BeautifulSoup(s, 'html.parser')"
   ]
  },
  {
   "cell_type": "code",
   "execution_count": 102,
   "metadata": {},
   "outputs": [],
   "source": [
    "#print(soup.find_all('a', href=True))"
   ]
  },
  {
   "cell_type": "code",
   "execution_count": 104,
   "metadata": {},
   "outputs": [],
   "source": [
    "for a in soup.find_all('a', href=True):\n",
    "    print(a['href'])"
   ]
  },
  {
   "cell_type": "code",
   "execution_count": null,
   "metadata": {},
   "outputs": [],
   "source": []
  },
  {
   "cell_type": "markdown",
   "metadata": {},
   "source": [
    "### task 1.4.1"
   ]
  },
  {
   "cell_type": "code",
   "execution_count": null,
   "metadata": {},
   "outputs": [],
   "source": [
    "import requests\n",
    "from bs4 import BeautifulSoup \n",
    "import re"
   ]
  },
  {
   "cell_type": "code",
   "execution_count": 106,
   "metadata": {},
   "outputs": [],
   "source": [
    "url = 'https://stepik.org/media/attachments/lesson/209723/3.html'\n",
    "page = requests.get(url)\n",
    "soup = BeautifulSoup(page.text, 'html.parser')"
   ]
  },
  {
   "cell_type": "code",
   "execution_count": 109,
   "metadata": {},
   "outputs": [],
   "source": [
    "td = soup.find_all('td')"
   ]
  },
  {
   "cell_type": "code",
   "execution_count": 115,
   "metadata": {},
   "outputs": [],
   "source": [
    "#td"
   ]
  },
  {
   "cell_type": "code",
   "execution_count": 118,
   "metadata": {},
   "outputs": [],
   "source": [
    "clean = int(str(td).split('>')[1].split('<')[0])"
   ]
  },
  {
   "cell_type": "code",
   "execution_count": 119,
   "metadata": {},
   "outputs": [
    {
     "data": {
      "text/plain": [
       "58"
      ]
     },
     "execution_count": 119,
     "metadata": {},
     "output_type": "execute_result"
    }
   ],
   "source": [
    "clean"
   ]
  },
  {
   "cell_type": "code",
   "execution_count": 111,
   "metadata": {},
   "outputs": [],
   "source": [
    "answer = 0"
   ]
  },
  {
   "cell_type": "code",
   "execution_count": 120,
   "metadata": {},
   "outputs": [],
   "source": [
    "for number in soup.find_all('td'):\n",
    "    answer += int(str(number).split('>')[1].split('<')[0])\n",
    "    "
   ]
  },
  {
   "cell_type": "code",
   "execution_count": 121,
   "metadata": {},
   "outputs": [
    {
     "data": {
      "text/plain": [
       "1005425"
      ]
     },
     "execution_count": 121,
     "metadata": {},
     "output_type": "execute_result"
    }
   ],
   "source": [
    "answer"
   ]
  },
  {
   "cell_type": "code",
   "execution_count": 110,
   "metadata": {},
   "outputs": [],
   "source": [
    "#soup"
   ]
  },
  {
   "cell_type": "code",
   "execution_count": 123,
   "metadata": {},
   "outputs": [
    {
     "name": "stdout",
     "output_type": "stream",
     "text": [
      "1005425\n"
     ]
    }
   ],
   "source": [
    "import requests\n",
    "from bs4 import BeautifulSoup \n",
    "\n",
    "url = 'https://stepik.org/media/attachments/lesson/209723/3.html'\n",
    "page = requests.get(url)\n",
    "soup = BeautifulSoup(page.text, 'html.parser')\n",
    "\n",
    "answer = 0\n",
    "\n",
    "for number in soup.find_all('td'):\n",
    "    answer += int(str(number).split('>')[1].split('<')[0])\n",
    "    \n",
    "print(answer)\n"
   ]
  },
  {
   "cell_type": "code",
   "execution_count": null,
   "metadata": {},
   "outputs": [],
   "source": [
    "import requests as req\n",
    "from bs4 import BeautifulSoup\n",
    "\n",
    "res = req.get('https://stepik.org/media/attachments/lesson/209723/3.html')\n",
    "\n",
    "soup = BeautifulSoup(res.text, 'html.parser')\n",
    "\n",
    "print(sum(int(td.text) for td in soup.find_all('td')))"
   ]
  },
  {
   "cell_type": "code",
   "execution_count": null,
   "metadata": {},
   "outputs": [],
   "source": []
  },
  {
   "cell_type": "markdown",
   "metadata": {},
   "source": [
    "### task 1.4.2"
   ]
  },
  {
   "cell_type": "code",
   "execution_count": 161,
   "metadata": {},
   "outputs": [],
   "source": [
    "url = 'https://stepik.org/media/attachments/lesson/209723/4.html'\n",
    "page = requests.get(url)\n",
    "soup = BeautifulSoup(page.text, 'html.parser')"
   ]
  },
  {
   "cell_type": "code",
   "execution_count": 159,
   "metadata": {},
   "outputs": [],
   "source": [
    "#soup"
   ]
  },
  {
   "cell_type": "code",
   "execution_count": 145,
   "metadata": {},
   "outputs": [],
   "source": [
    "#td = soup.find_all('td')"
   ]
  },
  {
   "cell_type": "code",
   "execution_count": 147,
   "metadata": {},
   "outputs": [],
   "source": [
    "#b = soup.find_all('b')\n",
    "#i = soup.find_all('i')"
   ]
  },
  {
   "cell_type": "code",
   "execution_count": 162,
   "metadata": {},
   "outputs": [],
   "source": [
    "answer = 0"
   ]
  },
  {
   "cell_type": "code",
   "execution_count": 163,
   "metadata": {},
   "outputs": [],
   "source": [
    "for number in soup.find_all('td'):\n",
    "    try:\n",
    "        #print(int(str(number).split('>')[1].split('<')[0]))\n",
    "        answer += int(str(number).split('>')[1].split('<')[0])\n",
    "    except:\n",
    "        try:\n",
    "            #print(int(str(number).split('>')[2].split('<')[0]))\n",
    "            answer += int(str(number).split('>')[2].split('<')[0])\n",
    "        except:\n",
    "            try:\n",
    "                #print(int(str(number).split('>')[3].split('<')[0]))\n",
    "                answer += int(str(number).split('>')[3].split('<')[0])\n",
    "            except:\n",
    "                pass"
   ]
  },
  {
   "cell_type": "code",
   "execution_count": 164,
   "metadata": {},
   "outputs": [
    {
     "data": {
      "text/plain": [
       "29536"
      ]
     },
     "execution_count": 164,
     "metadata": {},
     "output_type": "execute_result"
    }
   ],
   "source": [
    "answer"
   ]
  },
  {
   "cell_type": "code",
   "execution_count": 165,
   "metadata": {},
   "outputs": [],
   "source": [
    "#td"
   ]
  },
  {
   "cell_type": "code",
   "execution_count": null,
   "metadata": {},
   "outputs": [],
   "source": []
  },
  {
   "cell_type": "code",
   "execution_count": 166,
   "metadata": {},
   "outputs": [
    {
     "name": "stdout",
     "output_type": "stream",
     "text": [
      "29536\n"
     ]
    }
   ],
   "source": [
    "import requests\n",
    "from bs4 import BeautifulSoup\n",
    "\n",
    "url = 'https://stepik.org/media/attachments/lesson/209723/4.html'\n",
    "page = requests.get(url)\n",
    "soup = BeautifulSoup(page.text, 'html.parser')\n",
    "\n",
    "answer = 0\n",
    "\n",
    "for number in soup.find_all('td'):\n",
    "    try:\n",
    "        #print(int(str(number).split('>')[1].split('<')[0]))\n",
    "        answer += int(str(number).split('>')[1].split('<')[0])\n",
    "    except:\n",
    "        try:\n",
    "            #print(int(str(number).split('>')[2].split('<')[0]))\n",
    "            answer += int(str(number).split('>')[2].split('<')[0])\n",
    "        except:\n",
    "            try:\n",
    "                #print(int(str(number).split('>')[3].split('<')[0]))\n",
    "                answer += int(str(number).split('>')[3].split('<')[0])\n",
    "            except:\n",
    "                pass\n",
    "            \n",
    "print(answer)"
   ]
  },
  {
   "cell_type": "code",
   "execution_count": null,
   "metadata": {},
   "outputs": [],
   "source": []
  },
  {
   "cell_type": "code",
   "execution_count": null,
   "metadata": {},
   "outputs": [],
   "source": [
    "from urllib.request import urlopen\n",
    "from bs4 import BeautifulSoup\n",
    "\n",
    "resp = urlopen('https://stepik.org/media/attachments/lesson/209723/4.html')\n",
    "table = BeautifulSoup(resp.read().decode('utf8'), 'html.parser').select('table > tr > td')\n",
    "print(sum([int(t.text) for t in table]))"
   ]
  },
  {
   "cell_type": "code",
   "execution_count": null,
   "metadata": {},
   "outputs": [],
   "source": []
  },
  {
   "cell_type": "code",
   "execution_count": null,
   "metadata": {},
   "outputs": [],
   "source": [
    "from bs4 import BeautifulSoup\n",
    "import requests\n",
    "\n",
    "url = \"https://stepik.org/media/attachments/lesson/209723/4.html\"\n",
    "\n",
    "html = requests.get(url).text\n",
    "\n",
    "soup = BeautifulSoup(html, 'html.parser')\n",
    "answer = 0\n",
    "for i in soup.find_all('td'):\n",
    "    answer += int(i.get_text())\n",
    "\n",
    "print(answer)"
   ]
  },
  {
   "cell_type": "code",
   "execution_count": null,
   "metadata": {},
   "outputs": [],
   "source": []
  },
  {
   "cell_type": "code",
   "execution_count": null,
   "metadata": {},
   "outputs": [],
   "source": [
    "from urllib.request import urlopen\n",
    "from bs4 import BeautifulSoup\n",
    "\n",
    "\n",
    "html = urlopen(\"https://stepik.org/media/attachments/lesson/209723/4.html\").read().decode('utf-8')\n",
    "soup = BeautifulSoup(html, 'html.parser')\n",
    "soup = soup.find_all('td')\n",
    "output = 0\n",
    "for item in soup:\n",
    "    output += int(item.text)\n",
    "\n",
    "print(output)"
   ]
  },
  {
   "cell_type": "code",
   "execution_count": null,
   "metadata": {},
   "outputs": [],
   "source": []
  },
  {
   "cell_type": "markdown",
   "metadata": {},
   "source": [
    "### task 1.4.2"
   ]
  },
  {
   "cell_type": "code",
   "execution_count": null,
   "metadata": {},
   "outputs": [],
   "source": []
  },
  {
   "cell_type": "code",
   "execution_count": 167,
   "metadata": {},
   "outputs": [],
   "source": [
    "url = 'https://stepik.org/media/attachments/lesson/209723/5.html'\n",
    "page = requests.get(url)\n",
    "soup = BeautifulSoup(page.text, 'html.parser')\n",
    "\n",
    "answer = 0\n",
    "\n",
    "for number in soup.find_all('td'):\n",
    "    try:\n",
    "        #print(int(str(number).split('>')[1].split('<')[0]))\n",
    "        answer += int(str(number).split('>')[1].split('<')[0])\n",
    "    except:\n",
    "        try:\n",
    "            #print(int(str(number).split('>')[2].split('<')[0]))\n",
    "            answer += int(str(number).split('>')[2].split('<')[0])\n",
    "        except:\n",
    "            try:\n",
    "                #print(int(str(number).split('>')[3].split('<')[0]))\n",
    "                answer += int(str(number).split('>')[3].split('<')[0])\n",
    "            except:\n",
    "                pass\n",
    "            \n",
    "print(answer)"
   ]
  },
  {
   "cell_type": "code",
   "execution_count": 171,
   "metadata": {},
   "outputs": [],
   "source": [
    "#soup"
   ]
  },
  {
   "cell_type": "code",
   "execution_count": 172,
   "metadata": {},
   "outputs": [
    {
     "name": "stdout",
     "output_type": "stream",
     "text": [
      "28734\n"
     ]
    }
   ],
   "source": [
    "from bs4 import BeautifulSoup\n",
    "import requests\n",
    "\n",
    "url = \"https://stepik.org/media/attachments/lesson/209723/5.html\"\n",
    "\n",
    "html = requests.get(url).text\n",
    "\n",
    "soup = BeautifulSoup(html, 'html.parser')\n",
    "answer = 0\n",
    "for i in soup.find_all('td'):\n",
    "    answer += int(i.get_text())\n",
    "\n",
    "print(answer)"
   ]
  },
  {
   "cell_type": "code",
   "execution_count": null,
   "metadata": {},
   "outputs": [],
   "source": []
  },
  {
   "cell_type": "code",
   "execution_count": null,
   "metadata": {},
   "outputs": [],
   "source": []
  },
  {
   "cell_type": "code",
   "execution_count": null,
   "metadata": {},
   "outputs": [],
   "source": []
  },
  {
   "cell_type": "code",
   "execution_count": null,
   "metadata": {},
   "outputs": [],
   "source": []
  }
 ],
 "metadata": {
  "kernelspec": {
   "display_name": "Python 3",
   "language": "python",
   "name": "python3"
  },
  "language_info": {
   "codemirror_mode": {
    "name": "ipython",
    "version": 3
   },
   "file_extension": ".py",
   "mimetype": "text/x-python",
   "name": "python",
   "nbconvert_exporter": "python",
   "pygments_lexer": "ipython3",
   "version": "3.7.3"
  }
 },
 "nbformat": 4,
 "nbformat_minor": 2
}

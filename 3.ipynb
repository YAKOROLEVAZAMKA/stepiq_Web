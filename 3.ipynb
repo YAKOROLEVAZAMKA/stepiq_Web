{
 "cells": [
  {
   "cell_type": "code",
   "execution_count": 1,
   "metadata": {},
   "outputs": [],
   "source": [
    "import xmltodict"
   ]
  },
  {
   "cell_type": "code",
   "execution_count": 2,
   "metadata": {},
   "outputs": [],
   "source": [
    "dct = xmltodict.parse('''<?xml version='1.0' ?>\n",
    "<person>\n",
    "    <name>john</name>\n",
    "    <age>20</age>\n",
    "</person>''')"
   ]
  },
  {
   "cell_type": "code",
   "execution_count": 8,
   "metadata": {},
   "outputs": [
    {
     "data": {
      "text/plain": [
       "OrderedDict([('name', 'john'), ('age', '20')])"
      ]
     },
     "execution_count": 8,
     "metadata": {},
     "output_type": "execute_result"
    }
   ],
   "source": [
    "dct['person']"
   ]
  },
  {
   "cell_type": "code",
   "execution_count": 7,
   "metadata": {},
   "outputs": [
    {
     "data": {
      "text/plain": [
       "'john'"
      ]
     },
     "execution_count": 7,
     "metadata": {},
     "output_type": "execute_result"
    }
   ],
   "source": [
    "dct['person']['name']"
   ]
  },
  {
   "cell_type": "code",
   "execution_count": 6,
   "metadata": {},
   "outputs": [
    {
     "data": {
      "text/plain": [
       "'20'"
      ]
     },
     "execution_count": 6,
     "metadata": {},
     "output_type": "execute_result"
    }
   ],
   "source": [
    "dct['person']['age']"
   ]
  },
  {
   "cell_type": "code",
   "execution_count": null,
   "metadata": {},
   "outputs": [],
   "source": []
  },
  {
   "cell_type": "code",
   "execution_count": 9,
   "metadata": {},
   "outputs": [
    {
     "name": "stdout",
     "output_type": "stream",
     "text": [
      "296932122\n"
     ]
    }
   ],
   "source": [
    "import xmltodict\n",
    "\n",
    "fin = open('map1.osm', 'r', encoding='utf8')\n",
    "xml = fin.read()\n",
    "fin.close()\n",
    "\n",
    "parsedxml = xmltodict.parse(xml)\n",
    "print(parsedxml['osm']['node'][100]['@id'])"
   ]
  },
  {
   "cell_type": "code",
   "execution_count": null,
   "metadata": {},
   "outputs": [],
   "source": []
  },
  {
   "cell_type": "code",
   "execution_count": 11,
   "metadata": {},
   "outputs": [],
   "source": [
    "f = open('map.osm', 'r', encoding='utf-8')\n",
    "\n",
    "text = f.read()\n",
    "\n",
    "f.close()"
   ]
  },
  {
   "cell_type": "code",
   "execution_count": 12,
   "metadata": {},
   "outputs": [],
   "source": [
    "dct = xmltodict.parse(text)"
   ]
  },
  {
   "cell_type": "code",
   "execution_count": 17,
   "metadata": {},
   "outputs": [],
   "source": [
    "#dct['osm']['node']"
   ]
  },
  {
   "cell_type": "code",
   "execution_count": 29,
   "metadata": {},
   "outputs": [],
   "source": [
    "shops = 0"
   ]
  },
  {
   "cell_type": "code",
   "execution_count": 30,
   "metadata": {},
   "outputs": [
    {
     "name": "stdout",
     "output_type": "stream",
     "text": [
      "OrderedDict([('@k', 'shop'), ('@v', 'cosmetics')])\n",
      "OrderedDict([('@k', 'shop'), ('@v', 'dry_cleaning')])\n",
      "OrderedDict([('@k', 'shop'), ('@v', 'convenience')])\n",
      "OrderedDict([('@k', 'shop'), ('@v', 'pawnbroker')])\n",
      "OrderedDict([('@k', 'shop'), ('@v', 'convenience')])\n",
      "OrderedDict([('@k', 'shop'), ('@v', 'car_repair')])\n",
      "OrderedDict([('@k', 'shop'), ('@v', 'supermarket')])\n",
      "OrderedDict([('@k', 'shop'), ('@v', 'shoe_repair')])\n",
      "OrderedDict([('@k', 'shop'), ('@v', 'hairdresser')])\n",
      "OrderedDict([('@k', 'shop'), ('@v', 'supermarket')])\n",
      "OrderedDict([('@k', 'shop'), ('@v', 'supermarket')])\n",
      "OrderedDict([('@k', 'shop'), ('@v', 'bookmaker')])\n",
      "OrderedDict([('@k', 'shop'), ('@v', 'chemist')])\n",
      "OrderedDict([('@k', 'shop'), ('@v', 'supermarket')])\n",
      "OrderedDict([('@k', 'shop'), ('@v', 'ice_cream')])\n",
      "OrderedDict([('@k', 'shop'), ('@v', 'beauty')])\n",
      "OrderedDict([('@k', 'shop'), ('@v', 'erotic')])\n",
      "OrderedDict([('@k', 'shop'), ('@v', 'clothes')])\n",
      "OrderedDict([('@k', 'shop'), ('@v', 'hardware')])\n",
      "OrderedDict([('@k', 'shop'), ('@v', 'alcohol')])\n",
      "20\n"
     ]
    }
   ],
   "source": [
    "for node in dct['osm']['node']:\n",
    "    if 'tag' in node:\n",
    "        tags = node['tag']\n",
    "        if isinstance(tags, list):\n",
    "            for tag in tags:\n",
    "                if '@k' in tag and tag['@k'] == 'shop':\n",
    "                    print(tag)\n",
    "                    shops += 1\n",
    "                #print(tag)\n",
    "            #print()\n",
    "print(shops)"
   ]
  },
  {
   "cell_type": "code",
   "execution_count": null,
   "metadata": {},
   "outputs": [],
   "source": []
  },
  {
   "cell_type": "markdown",
   "metadata": {},
   "source": [
    "### task 3.2"
   ]
  },
  {
   "cell_type": "code",
   "execution_count": 34,
   "metadata": {},
   "outputs": [],
   "source": [
    "import requests"
   ]
  },
  {
   "cell_type": "code",
   "execution_count": 32,
   "metadata": {},
   "outputs": [],
   "source": [
    "url = 'https://stepik.org/media/attachments/lesson/245678/map1.osm'"
   ]
  },
  {
   "cell_type": "code",
   "execution_count": 35,
   "metadata": {},
   "outputs": [],
   "source": [
    "res = requests.get(url)"
   ]
  },
  {
   "cell_type": "code",
   "execution_count": 38,
   "metadata": {},
   "outputs": [],
   "source": [
    "dct = xmltodict.parse(res.text)"
   ]
  },
  {
   "cell_type": "code",
   "execution_count": 47,
   "metadata": {},
   "outputs": [],
   "source": [
    "tgs = 0\n",
    "ntgs = 0"
   ]
  },
  {
   "cell_type": "code",
   "execution_count": 48,
   "metadata": {},
   "outputs": [],
   "source": [
    "for node in dct['osm']['node']:\n",
    "    if 'tag' in node:\n",
    "        tgs += 1\n",
    "    else:\n",
    "        ntgs += 1"
   ]
  },
  {
   "cell_type": "code",
   "execution_count": 49,
   "metadata": {},
   "outputs": [
    {
     "name": "stdout",
     "output_type": "stream",
     "text": [
      "316 6166\n"
     ]
    }
   ],
   "source": [
    "print(tgs, ntgs)"
   ]
  },
  {
   "cell_type": "code",
   "execution_count": null,
   "metadata": {},
   "outputs": [],
   "source": []
  },
  {
   "cell_type": "code",
   "execution_count": null,
   "metadata": {},
   "outputs": [],
   "source": [
    "import requests\n",
    "\n",
    "url = 'https://stepik.org/media/attachments/lesson/245678/map1.osm'\n",
    "res = requests.get(url)\n",
    "# получаем файл по ссылке\n",
    "\n",
    "dct = xmltodict.parse(res.text)\n",
    "# парсим ответ\n",
    "\n",
    "tgs = 0\n",
    "ntgs = 0\n",
    "\n",
    "for node in dct['osm']['node']:\n",
    "    if 'tag' in node:\n",
    "        tgs += 1\n",
    "    else:\n",
    "        ntgs += 1\n",
    "# считаем ноды\n",
    "        \n",
    "print(tgs, ntgs)\n"
   ]
  },
  {
   "cell_type": "code",
   "execution_count": null,
   "metadata": {},
   "outputs": [],
   "source": []
  },
  {
   "cell_type": "code",
   "execution_count": 62,
   "metadata": {},
   "outputs": [],
   "source": [
    "shops = 0\n",
    "names = []"
   ]
  },
  {
   "cell_type": "code",
   "execution_count": 63,
   "metadata": {},
   "outputs": [
    {
     "name": "stdout",
     "output_type": "stream",
     "text": [
      "OrderedDict([('@k', 'shop'), ('@v', 'supermarket')])\n",
      "Виктория\n",
      "OrderedDict([('@k', 'shop'), ('@v', 'supermarket')])\n",
      "Перекресток\n",
      "OrderedDict([('@k', 'shop'), ('@v', 'supermarket')])\n",
      "Пятёрочка\n",
      "OrderedDict([('@k', 'shop'), ('@v', 'supermarket')])\n",
      "Пятёрочка\n",
      "OrderedDict([('@k', 'shop'), ('@v', 'supermarket')])\n",
      "Фасолька\n",
      "5 Виктория Перекресток Пятёрочка Пятёрочка Фасолька\n"
     ]
    }
   ],
   "source": [
    "for node in dct['osm']['node']:\n",
    "    if 'tag' in node:\n",
    "        tags = node['tag']\n",
    "        flag = False\n",
    "        name = 'noname'\n",
    "        if isinstance(tags, list):\n",
    "            for tag in tags:\n",
    "                if '@k' in tag and tag['@k'] == 'shop' and tag['@v'] == 'supermarket':\n",
    "                    print(tag)\n",
    "                    shops += 1\n",
    "                    flag = True\n",
    "                if '@k' in tag and tag['@k'] == 'name':\n",
    "                    name = tag['@v']\n",
    "        if flag: \n",
    "            print(name)\n",
    "            names.append(name)\n",
    "                #print(tag)\n",
    "            #print()\n",
    "print(shops, *names)"
   ]
  },
  {
   "cell_type": "code",
   "execution_count": null,
   "metadata": {},
   "outputs": [],
   "source": []
  },
  {
   "cell_type": "code",
   "execution_count": null,
   "metadata": {},
   "outputs": [],
   "source": [
    "import requests"
   ]
  },
  {
   "cell_type": "code",
   "execution_count": 149,
   "metadata": {},
   "outputs": [],
   "source": [
    "url = 'https://stepik.org/media/attachments/lesson/245681/map2.osm'\n",
    "res = requests.get(url)"
   ]
  },
  {
   "cell_type": "code",
   "execution_count": 150,
   "metadata": {},
   "outputs": [],
   "source": [
    "dct = xmltodict.parse(res.text)"
   ]
  },
  {
   "cell_type": "code",
   "execution_count": 74,
   "metadata": {},
   "outputs": [],
   "source": [
    "parent_list = []"
   ]
  },
  {
   "cell_type": "code",
   "execution_count": 75,
   "metadata": {},
   "outputs": [],
   "source": [
    "for name in dct['osm']:\n",
    "    #print(name)\n",
    "    parent_list.append(name)"
   ]
  },
  {
   "cell_type": "code",
   "execution_count": 77,
   "metadata": {},
   "outputs": [
    {
     "data": {
      "text/plain": [
       "['@version',\n",
       " '@generator',\n",
       " '@copyright',\n",
       " '@attribution',\n",
       " '@license',\n",
       " 'bounds',\n",
       " 'node',\n",
       " 'way',\n",
       " 'relation']"
      ]
     },
     "execution_count": 77,
     "metadata": {},
     "output_type": "execute_result"
    }
   ],
   "source": [
    "parent_list"
   ]
  },
  {
   "cell_type": "code",
   "execution_count": 101,
   "metadata": {},
   "outputs": [],
   "source": []
  },
  {
   "cell_type": "code",
   "execution_count": 131,
   "metadata": {},
   "outputs": [],
   "source": [
    "fuels = 0\n",
    "c228 = 0\n",
    "\n",
    "for name228 in parent_list:\n",
    "    for parent in dct['osm'][name228]:\n",
    "        if 'tag' in parent:\n",
    "            tags = parent['tag']\n",
    "            flag = False\n",
    "            #name = 'noname'\n",
    "            if isinstance(tags, list):\n",
    "                for tag in tags:\n",
    "                    if '@k' in tag and tag['@k'] == 'amenity' and tag['@v'] == 'fuel':\n",
    "                        #print(name228)\n",
    "                        #c228 += 1\n",
    "                        #print()\n",
    "                        #print(parent)\n",
    "                        fuels += 1\n",
    "                        #flag = True\n",
    "\n",
    "                    if '@k' in tag and tag['@k'] == 'name':\n",
    "                        name = tag['@v']\n",
    "                        \n",
    "            elif isinstance(tags, str):\n",
    "                if '@k' in tag and tag['@k'] == 'amenity' and tag['@v'] == 'fuel':\n",
    "                    print(node)\n",
    "                    fuels += 1\n",
    "                #flag = True\n",
    "            \n",
    "            #if flag:\n",
    "            #    print(name)\n",
    "                    #print(tag)\n",
    "                    #print(tag['@v'])\n",
    "#print(c228)        "
   ]
  },
  {
   "cell_type": "code",
   "execution_count": 132,
   "metadata": {},
   "outputs": [
    {
     "data": {
      "text/plain": [
       "25"
      ]
     },
     "execution_count": 132,
     "metadata": {},
     "output_type": "execute_result"
    }
   ],
   "source": [
    "fuels"
   ]
  },
  {
   "cell_type": "markdown",
   "metadata": {},
   "source": [
    "----------------------------"
   ]
  },
  {
   "cell_type": "code",
   "execution_count": 160,
   "metadata": {},
   "outputs": [
    {
     "name": "stdout",
     "output_type": "stream",
     "text": [
      "OrderedDict([('@k', 'amenity'), ('@v', 'fuel')])\n",
      "OrderedDict([('@k', 'amenity'), ('@v', 'fuel')])\n",
      "OrderedDict([('@k', 'amenity'), ('@v', 'fuel')])\n",
      "OrderedDict([('@k', 'amenity'), ('@v', 'fuel')])\n",
      "OrderedDict([('@k', 'amenity'), ('@v', 'fuel')])\n",
      "OrderedDict([('@k', 'amenity'), ('@v', 'fuel')])\n",
      "OrderedDict([('@k', 'amenity'), ('@v', 'fuel')])\n",
      "OrderedDict([('@k', 'amenity'), ('@v', 'fuel')])\n",
      "OrderedDict([('@k', 'amenity'), ('@v', 'fuel')])\n",
      "OrderedDict([('@k', 'amenity'), ('@v', 'fuel')])\n",
      "OrderedDict([('@k', 'amenity'), ('@v', 'fuel')])\n",
      "OrderedDict([('@k', 'amenity'), ('@v', 'fuel')])\n",
      "OrderedDict([('@k', 'amenity'), ('@v', 'fuel')])\n",
      "OrderedDict([('@k', 'amenity'), ('@v', 'fuel')])\n",
      "15\n"
     ]
    }
   ],
   "source": [
    "fuels = 0\n",
    "\n",
    "for node in dct['osm']['node']:\n",
    "    if 'tag' in node:\n",
    "        tags = node['tag']\n",
    "    \n",
    "        if isinstance(tags, list):\n",
    "            for tag in tags:\n",
    "                if '@k' in tag and tag['@k'] == 'amenity' and tag['@v'] == 'fuel':\n",
    "                    fuels += 1\n",
    "\n",
    "        else:\n",
    "            if '@k' in tags and tags['@k'] == 'amenity' and tags['@v'] == 'fuel':\n",
    "                fuels += 1\n",
    "\n",
    "print(fuels)"
   ]
  },
  {
   "cell_type": "code",
   "execution_count": 143,
   "metadata": {},
   "outputs": [
    {
     "data": {
      "text/plain": [
       "14"
      ]
     },
     "execution_count": 143,
     "metadata": {},
     "output_type": "execute_result"
    }
   ],
   "source": [
    "fuels"
   ]
  },
  {
   "cell_type": "code",
   "execution_count": 159,
   "metadata": {},
   "outputs": [],
   "source": [
    "#dct['osm']"
   ]
  },
  {
   "cell_type": "code",
   "execution_count": null,
   "metadata": {},
   "outputs": [],
   "source": []
  },
  {
   "cell_type": "code",
   "execution_count": null,
   "metadata": {},
   "outputs": [],
   "source": []
  },
  {
   "cell_type": "code",
   "execution_count": 161,
   "metadata": {},
   "outputs": [
    {
     "name": "stdout",
     "output_type": "stream",
     "text": [
      "15\n"
     ]
    }
   ],
   "source": [
    "import requests\n",
    "import xmltodict\n",
    "\n",
    "url = 'https://stepik.org/media/attachments/lesson/245681/map2.osm'\n",
    "res = requests.get(url)\n",
    "\n",
    "fuels = 0\n",
    "\n",
    "dct = xmltodict.parse(res.text)\n",
    "\n",
    "for node in dct['osm']['node']:\n",
    "    if 'tag' in node:\n",
    "        tags = node['tag']\n",
    "    \n",
    "        if isinstance(tags, list):\n",
    "            for tag in tags:\n",
    "                if '@k' in tag and tag['@k'] == 'amenity' and tag['@v'] == 'fuel':\n",
    "                    fuels += 1\n",
    "\n",
    "        else:\n",
    "            if '@k' in tags and tags['@k'] == 'amenity' and tags['@v'] == 'fuel':\n",
    "                fuels += 1\n",
    "\n",
    "print(fuels)"
   ]
  },
  {
   "cell_type": "code",
   "execution_count": null,
   "metadata": {},
   "outputs": [],
   "source": []
  },
  {
   "cell_type": "markdown",
   "metadata": {},
   "source": [
    "### soultions"
   ]
  },
  {
   "cell_type": "code",
   "execution_count": null,
   "metadata": {},
   "outputs": [],
   "source": []
  },
  {
   "cell_type": "code",
   "execution_count": null,
   "metadata": {},
   "outputs": [],
   "source": [
    "import xmltodict\n",
    "from pprint import pprint\n",
    "\n",
    "\n",
    "with open('map2.osm', 'r', encoding='utf8') as fin:\n",
    "    xml = fin.read()\n",
    "\n",
    "xml_dct = xmltodict.parse(xml)\n",
    "node_list = xml_dct['osm']['node']\n",
    "\n",
    "gas_stations = 0\n",
    "tags = []\n",
    "\n",
    "for node in node_list:\n",
    "    if 'tag' in node:\n",
    "        tags = node['tag']\n",
    "        if not isinstance(tags, list):\n",
    "            tags = [tags]\n",
    "            \n",
    "        for tag in tags:\n",
    "            if '@k' in tag and tag['@k'] == 'amenity' and tag['@v'] == 'fuel':\n",
    "                gas_stations += 1\n",
    "                       \n",
    "print(gas_stations)"
   ]
  },
  {
   "cell_type": "code",
   "execution_count": null,
   "metadata": {},
   "outputs": [],
   "source": []
  },
  {
   "cell_type": "code",
   "execution_count": null,
   "metadata": {},
   "outputs": [],
   "source": [
    "import requests, re\n",
    "res = requests.get('https://stepik.org/media/attachments/lesson/245681/map2.osm').text\n",
    "print(len(re.findall(r'\"fuel\".*?</node>', res, flags=re.DOTALL)))"
   ]
  },
  {
   "cell_type": "code",
   "execution_count": null,
   "metadata": {},
   "outputs": [],
   "source": []
  },
  {
   "cell_type": "code",
   "execution_count": null,
   "metadata": {},
   "outputs": [],
   "source": [
    "import xml.etree.ElementTree as ET\n",
    "\n",
    "\n",
    "fuel = 0\n",
    "\n",
    "tree = ET.parse('map2.osm')\n",
    "root = tree.getroot()\n",
    "\n",
    "for node in root:\n",
    "\tif node.tag == 'node':\n",
    "\t\tfor tag in node:\n",
    "\t\t\tif 'fuel' in tag.attrib.values():\n",
    "\t\t\t\tfuel += 1\n",
    "\t\t\t\t\n",
    "print(fuel)"
   ]
  },
  {
   "cell_type": "code",
   "execution_count": null,
   "metadata": {},
   "outputs": [],
   "source": []
  },
  {
   "cell_type": "markdown",
   "metadata": {},
   "source": [
    "### task 3.3"
   ]
  },
  {
   "cell_type": "code",
   "execution_count": 163,
   "metadata": {},
   "outputs": [],
   "source": [
    "import requests"
   ]
  },
  {
   "cell_type": "code",
   "execution_count": 164,
   "metadata": {},
   "outputs": [],
   "source": [
    "url = 'https://stepik.org/media/attachments/lesson/245681/map2.osm'\n",
    "res = requests.get(url)"
   ]
  },
  {
   "cell_type": "code",
   "execution_count": 165,
   "metadata": {},
   "outputs": [],
   "source": [
    "dct = xmltodict.parse(res.text)"
   ]
  },
  {
   "cell_type": "code",
   "execution_count": 181,
   "metadata": {},
   "outputs": [],
   "source": [
    "parent_list = []"
   ]
  },
  {
   "cell_type": "code",
   "execution_count": 182,
   "metadata": {},
   "outputs": [],
   "source": [
    "for name in dct['osm']:\n",
    "    #print(name)\n",
    "    parent_list.append(name)"
   ]
  },
  {
   "cell_type": "code",
   "execution_count": 176,
   "metadata": {},
   "outputs": [
    {
     "data": {
      "text/plain": [
       "['@version',\n",
       " '@generator',\n",
       " '@copyright',\n",
       " '@attribution',\n",
       " '@license',\n",
       " 'bounds',\n",
       " 'node',\n",
       " 'way',\n",
       " 'relation']"
      ]
     },
     "execution_count": 176,
     "metadata": {},
     "output_type": "execute_result"
    }
   ],
   "source": [
    "parent_list"
   ]
  },
  {
   "cell_type": "code",
   "execution_count": 177,
   "metadata": {},
   "outputs": [],
   "source": [
    "parent_list = parent_list[5:7] + parent_list[8:9]"
   ]
  },
  {
   "cell_type": "code",
   "execution_count": 183,
   "metadata": {},
   "outputs": [
    {
     "data": {
      "text/plain": [
       "['@version',\n",
       " '@generator',\n",
       " '@copyright',\n",
       " '@attribution',\n",
       " '@license',\n",
       " 'bounds',\n",
       " 'node',\n",
       " 'way',\n",
       " 'relation']"
      ]
     },
     "execution_count": 183,
     "metadata": {},
     "output_type": "execute_result"
    }
   ],
   "source": [
    "parent_list"
   ]
  },
  {
   "cell_type": "code",
   "execution_count": 184,
   "metadata": {},
   "outputs": [],
   "source": [
    "fuels = 0\n",
    "\n",
    "for name228 in parent_list:\n",
    "    for parent in dct['osm'][name228]:\n",
    "        if 'tag' in parent:\n",
    "            tags = parent['tag']\n",
    "            if isinstance(tags, list):\n",
    "                for tag in tags:\n",
    "                    if '@k' in tag and tag['@k'] == 'amenity' and tag['@v'] == 'fuel':\n",
    "\n",
    "                        fuels += 1\n",
    "\n",
    "            else:\n",
    "                if '@k' in tags and tags['@k'] == 'amenity' and tags['@v'] == 'fuel':\n",
    "                    fuels += 1   \n"
   ]
  },
  {
   "cell_type": "code",
   "execution_count": 185,
   "metadata": {},
   "outputs": [
    {
     "data": {
      "text/plain": [
       "27"
      ]
     },
     "execution_count": 185,
     "metadata": {},
     "output_type": "execute_result"
    }
   ],
   "source": [
    "fuels"
   ]
  },
  {
   "cell_type": "code",
   "execution_count": null,
   "metadata": {},
   "outputs": [],
   "source": []
  },
  {
   "cell_type": "code",
   "execution_count": 186,
   "metadata": {},
   "outputs": [
    {
     "name": "stdout",
     "output_type": "stream",
     "text": [
      "27\n"
     ]
    }
   ],
   "source": [
    "import requests\n",
    "\n",
    "url = 'https://stepik.org/media/attachments/lesson/245681/map2.osm'\n",
    "res = requests.get(url)\n",
    "\n",
    "dct = xmltodict.parse(res.text)\n",
    "\n",
    "parent_list = []\n",
    "\n",
    "for name in dct['osm']:\n",
    "    parent_list.append(name)\n",
    "    \n",
    "fuels = 0\n",
    "\n",
    "for name in parent_list:\n",
    "    for parent in dct['osm'][name]:\n",
    "        if 'tag' in parent:\n",
    "            tags = parent['tag']\n",
    "            if isinstance(tags, list):\n",
    "                for tag in tags:\n",
    "                    if '@k' in tag and tag['@k'] == 'amenity' and tag['@v'] == 'fuel':\n",
    "\n",
    "                        fuels += 1\n",
    "\n",
    "            else:\n",
    "                if '@k' in tags and tags['@k'] == 'amenity' and tags['@v'] == 'fuel':\n",
    "                    fuels += 1\n",
    "\n",
    "print(fuels)\n"
   ]
  },
  {
   "cell_type": "code",
   "execution_count": null,
   "metadata": {},
   "outputs": [],
   "source": []
  },
  {
   "cell_type": "code",
   "execution_count": null,
   "metadata": {},
   "outputs": [],
   "source": []
  },
  {
   "cell_type": "code",
   "execution_count": null,
   "metadata": {},
   "outputs": [],
   "source": []
  },
  {
   "cell_type": "code",
   "execution_count": null,
   "metadata": {},
   "outputs": [],
   "source": []
  }
 ],
 "metadata": {
  "kernelspec": {
   "display_name": "Python 3",
   "language": "python",
   "name": "python3"
  },
  "language_info": {
   "codemirror_mode": {
    "name": "ipython",
    "version": 3
   },
   "file_extension": ".py",
   "mimetype": "text/x-python",
   "name": "python",
   "nbconvert_exporter": "python",
   "pygments_lexer": "ipython3",
   "version": "3.7.3"
  }
 },
 "nbformat": 4,
 "nbformat_minor": 2
}
